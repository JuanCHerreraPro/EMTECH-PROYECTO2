{
 "cells": [
  {
   "cell_type": "markdown",
   "metadata": {},
   "source": [
    "# Proyecto 2 Synergy Logistics"
   ]
  },
  {
   "cell_type": "markdown",
   "metadata": {},
   "source": [
    "\n",
    "<img src=https://images.freeimages.com/images/large-previews/3c9/contenair-ship-1-1238009.jpg  width=\"900\" height=\"600\" >\n"
   ]
  },
  {
   "cell_type": "markdown",
   "metadata": {},
   "source": [
    "## Juan Carlos Herrera Pro\n",
    "## Emtech Institute"
   ]
  },
  {
   "cell_type": "markdown",
   "metadata": {},
   "source": [
    "## Indice"
   ]
  },
  {
   "cell_type": "markdown",
   "metadata": {},
   "source": [
    "### 1. Introducción\n",
    "### 2. Opción Sugeríada como base de la estrategia de Synergy logistics\n",
    "### 3. Conclusión"
   ]
  },
  {
   "cell_type": "markdown",
   "metadata": {},
   "source": [
    "## 1. Introducción"
   ]
  },
  {
   "cell_type": "markdown",
   "metadata": {},
   "source": [
    "La Dirección de Synergy Logistics ha solicitado al equipo operativo, realizar una\n",
    "propuesta que permita enfocar las prioridades de la estrategia operativa 2021; para\n",
    "ello, se plantea analizar la viabilidad de 3 opciones de enfoque: rutas de importación\n",
    "y exportación, medio de transporte utilizado y valor total de importaciones y\n",
    "exportaciones. \n",
    "Como data analyst tu deber es ayudar a encontrar la mejor opción. \n",
    "Dentro de las cuales tendremos las siguientes: \n",
    "\n",
    "Opción 1) Rutas de importación y exportación. Synergy logistics está\n",
    "considerando la posibilidad de enfocar sus esfuerzos en las 10 rutas más\n",
    "demandadas. Acorde a los flujos de importación y exportación, ¿cuáles son esas\n",
    "10 rutas? ¿le conviene implementar esa estrategia? ¿porqué?\n",
    "\n",
    "\n",
    "Opción 2) Medio de transporte utilizado. ¿Cuáles son los 3 medios de transporte\n",
    "más importantes para Synergy logistics considerando el valor de las\n",
    "importaciones y exportaciones? ¿Cuál es medio de transporte que podrían\n",
    "reducir?\n",
    "\n",
    "\n",
    "Opción 3) Valor total de importaciones y exportaciones. Si Synergy Logistics\n",
    "quisiera enfocarse en los países que le generan el 80% del valor de las\n",
    "exportaciones e importaciones ¿en qué grupo de países debería enfocar sus\n",
    "esfuerzos?\n"
   ]
  },
  {
   "cell_type": "markdown",
   "metadata": {},
   "source": [
    "## 2. Opción Sugeríada como base de la estrategia de Synergy logistics"
   ]
  },
  {
   "cell_type": "markdown",
   "metadata": {},
   "source": [
    "## Opción 1) \n",
    "Rutas de importación y exportación. Synergy logistics está\n",
    "considerando la posibilidad de enfocar sus esfuerzos en las 10 rutas más\n",
    "demandadas. Acorde a los flujos de importación y exportación, ¿cuáles son esas\n",
    "10 rutas? ¿le conviene implementar esa estrategia? ¿porqué?"
   ]
  },
  {
   "cell_type": "code",
   "execution_count": 1,
   "metadata": {},
   "outputs": [],
   "source": [
    "import csv"
   ]
  },
  {
   "cell_type": "code",
   "execution_count": 70,
   "metadata": {},
   "outputs": [
    {
     "name": "stdout",
     "output_type": "stream",
     "text": [
      "||=====================Top 10 rutas más transitadas===========================||\n",
      "1 La ruta  ['South Korea', 'Vietnam'] con 497 exportaciones\n",
      "2 La ruta  ['Netherlands', 'Belgium'] con 437 exportaciones\n",
      "3 La ruta  ['USA', 'Netherlands'] con 436 exportaciones\n",
      "4 La ruta  ['China', 'Mexico'] con 330 exportaciones\n",
      "5 La ruta  ['Japan', 'Brazil'] con 306 exportaciones\n",
      "6 La ruta  ['Germany', 'France'] con 299 exportaciones\n",
      "7 La ruta  ['South Korea', 'Japan'] con 279 exportaciones\n",
      "8 La ruta  ['Australia', 'Singapore'] con 273 exportaciones\n",
      "9 La ruta  ['Canada', 'Mexico'] con 261 exportaciones\n",
      "10 La ruta  ['China', 'Spain'] con 250 exportaciones\n",
      "Total exportaciones:  15408\n",
      "----------------------------\n",
      "1 La ruta  ['Singapore', 'Thailand'] con 273 importaciones\n",
      "2 La ruta  ['Germany', 'China'] con 233 importaciones\n",
      "3 La ruta  ['China', 'Japan'] con 210 importaciones\n",
      "4 La ruta  ['Japan', 'Mexico'] con 206 importaciones\n",
      "5 La ruta  ['China', 'Thailand'] con 200 importaciones\n",
      "6 La ruta  ['Malaysia', 'Thailand'] con 195 importaciones\n",
      "7 La ruta  ['Spain', 'Germany'] con 142 importaciones\n",
      "8 La ruta  ['Mexico', 'USA'] con 122 importaciones\n",
      "9 La ruta  ['China', 'United Arab Emirates'] con 114 importaciones\n",
      "10 La ruta  ['Brazil', 'China'] con 113 importaciones\n",
      "Total de importaciones:  3648\n"
     ]
    }
   ],
   "source": [
    "with open(\"synergy_logistics_database.csv\", \"r\") as archivo_csv:\n",
    "    lector = csv.reader(archivo_csv)\n",
    "    paises_exportadores_data = []\n",
    "    paises_importadores_data = []\n",
    "\n",
    "    i = 0\n",
    "    for linea in lector:\n",
    "        if linea[1] == 'Exports': \n",
    "            paises_exportadores_data.append([linea[2], linea[3]])\n",
    "          \n",
    "        elif linea[1] == 'Imports':    \n",
    "            paises_importadores_data.append([linea[2], linea[3]])\n",
    "    \n",
    "    \n",
    "    paises_exportadores = []\n",
    "\n",
    "    for pais in paises_exportadores_data:\n",
    "        if pais not in paises_exportadores:\n",
    "            paises_exportadores.append(pais)   \n",
    "    \n",
    "\n",
    "    paises_importadores = []\n",
    "\n",
    "    for pais in paises_importadores_data:\n",
    "        if pais not in paises_importadores:\n",
    "            paises_importadores.append(pais)\n",
    "    \n",
    "    total_exportaciones = 0\n",
    "    paises_exportadores_conteo = []\n",
    "    for pais in paises_exportadores:\n",
    "        conteo = 0\n",
    "        for linea in paises_exportadores_data:\n",
    "            if pais[0] == linea[0] and pais[1] == linea[1]:\n",
    "                conteo += 1\n",
    "        total_exportaciones += conteo\n",
    "        paises_exportadores_conteo.append([conteo, pais])\n",
    "\n",
    "    paises_exportadores_conteo.sort(reverse=True)\n",
    "    \n",
    "    \n",
    "    total_importaciones = 0\n",
    "    paises_importadores_conteo = [] \n",
    "    for pais in paises_importadores:\n",
    "        conteo = 0\n",
    "        for linea in paises_importadores_data:\n",
    "            if pais[0] == linea[0] and pais[1] == linea[1]:\n",
    "                conteo += 1\n",
    "        total_importaciones += conteo\n",
    "        paises_importadores_conteo.append([conteo, pais])\n",
    "\n",
    "    paises_importadores_conteo.sort(reverse=True)\n",
    "    \n",
    "\n",
    "   \n",
    "\n",
    "    print(\"||=====================Top 10 rutas más transitadas===========================||\")\n",
    "    for i  in range(10):\n",
    "        print(i+1, \"La ruta \", paises_exportadores_conteo[i][1], \"con\", paises_exportadores_conteo[i][0], \"exportaciones\" )\n",
    "        \n",
    "    print(\"Total exportaciones: \", total_exportaciones)\n",
    "\n",
    "    print(\"----------------------------\")\n",
    "    for i  in range(10):\n",
    "        print(i+1, \"La ruta \", paises_importadores_conteo[i][1], \"con\", paises_importadores_conteo[i][0], \"importaciones\" )\n",
    "\n",
    "    print(\"Total de importaciones: \", total_importaciones)"
   ]
  },
  {
   "cell_type": "markdown",
   "metadata": {},
   "source": [
    "Implementar está estrategía podría parecer interesante, pero el número de total de exportaciones que es de 15,408 es muy poco comparado con el top 10 exportaciones que es de 3,368. Es decir, la empresa unicamente estaría operando sus exportaciones a un 22 %. \n",
    "En el caso de las importaciones, esta idea podría ser algo más atractiva, pues de las 3,648 importaciones totales, 1,808 le pertenecen al top 10, practicamente un 50 %. \n",
    "\n",
    "Como recomendación del analista de datos, la opción 1 quedaría descartada. "
   ]
  },
  {
   "cell_type": "markdown",
   "metadata": {},
   "source": [
    "## Opción 2) \n",
    "Medio de transporte utilizado. ¿Cuáles son los 3 medios de transporte\n",
    "más importantes para Synergy logistics considerando el valor de las\n",
    "importaciones y exportaciones? ¿Cuál es medio de transporte que podrían\n",
    "reducir? "
   ]
  },
  {
   "cell_type": "code",
   "execution_count": 61,
   "metadata": {},
   "outputs": [],
   "source": [
    "with open(\"synergy_logistics_database.csv\", \"r\") as archivo_csv:\n",
    "    lector = csv.reader(archivo_csv)\n",
    "    \n",
    "    transportes_exportadores_data = []\n",
    "    transportes_importadores_data = []\n",
    "\n",
    "    for linea in lector:\n",
    "        if linea[1] == 'Exports': \n",
    "            transportes_exportadores_data.append(linea[7])\n",
    "          \n",
    "        elif linea[1] == 'Imports':    \n",
    "            transportes_importadores_data.append(linea[7])\n",
    "\n",
    "    transportes_exportadores = []\n",
    "    transportes_importadores = []\n",
    "\n",
    "    for transporte in transportes_exportadores_data:\n",
    "        if transporte not in transportes_exportadores:\n",
    "            transportes_exportadores.append(transporte)\n",
    "\n",
    "    \n",
    "\n",
    "    for transporte in transportes_importadores_data:\n",
    "        if transporte not in transportes_importadores:\n",
    "            transportes_importadores.append(transporte)"
   ]
  },
  {
   "cell_type": "code",
   "execution_count": 72,
   "metadata": {},
   "outputs": [
    {
     "name": "stdout",
     "output_type": "stream",
     "text": [
      "Total de exportaciones  508464000000\n",
      "||=====================Top 3 medios de transporte que aportan más valor (Exportaciones)===========================||\n",
      "1 El medio de transporte  Sea reporta un total de 278322000000  en exportaciones\n",
      "2 El medio de transporte  Rail reporta un total de 91740000000  en exportaciones\n",
      "3 El medio de transporte  Road reporta un total de 70917000000  en exportaciones\n"
     ]
    }
   ],
   "source": [
    "with open(\"synergy_logistics_database.csv\", \"r\") as archivo_csv:\n",
    "\n",
    "  transportes_exportadores_suma = []\n",
    "  lector = csv.reader(archivo_csv) \n",
    "\n",
    "  precios = []\n",
    "  for linea in lector:\n",
    "    if linea[9] != 'total_value': \n",
    "      precios.append(linea[9])\n",
    "  \n",
    "  \n",
    "\n",
    "  total_exportaciones = 0\n",
    "  for transporte in transportes_exportadores:\n",
    "    suma = 0\n",
    "    i = 0\n",
    "    for transporte2 in transportes_exportadores_data:\n",
    "      if transporte == transporte2:\n",
    "          suma += int(precios[i]) \n",
    "    total_exportaciones += suma\n",
    "    i += 1\n",
    "    transportes_exportadores_suma.append([suma, transporte])\n",
    "\n",
    "  transportes_exportadores_suma.sort(reverse=True)\n",
    "  print(\"Valor total de exportaciones \", total_exportaciones)\n",
    "  print(\"||=====================Top 3 medios de transporte que aportan más valor (Exportaciones)===========================||\")\n",
    "  for i in range(3):\n",
    "    print(i+1,\"El medio de transporte \", transportes_exportadores_suma[i][1], \"reporta un total de\", transportes_exportadores_suma[i][0], \" en exportaciones\")"
   ]
  },
  {
   "cell_type": "code",
   "execution_count": 73,
   "metadata": {},
   "outputs": [
    {
     "name": "stdout",
     "output_type": "stream",
     "text": [
      "Valor total de importaciones  120384000000\n",
      "||=====================Top 3 medios de transporte que aportan más valor (Importaciones)===========================||\n",
      "1 El medio de transporte  Sea reporta un total de 74382000000  en importaciones\n",
      "2 El medio de transporte  Rail reporta un total de 19833000000  en importaciones\n",
      "3 El medio de transporte  Road reporta un total de 14817000000  en importaciones\n"
     ]
    }
   ],
   "source": [
    "with open(\"synergy_logistics_database.csv\", \"r\") as archivo_csv:\n",
    "\n",
    "  transportes_importadores_suma = []\n",
    "  lector = csv.reader(archivo_csv) \n",
    "\n",
    "  precios = []\n",
    "  for linea in lector:\n",
    "    if linea[9] != 'total_value': \n",
    "      precios.append(linea[9])\n",
    "  \n",
    "\n",
    "  total_importaciones = 0\n",
    "  for transporte in transportes_importadores:\n",
    "    suma = 0\n",
    "    i = 0\n",
    "    for transporte2 in transportes_importadores_data:\n",
    "      if transporte == transporte2:\n",
    "          suma += int(precios[i]) \n",
    "    total_importaciones += suma\n",
    "    i += 1\n",
    "    transportes_importadores_suma.append([suma, transporte])\n",
    "\n",
    "  transportes_importadores_suma.sort(reverse=True)\n",
    "  print(\"Valor total de importaciones \", total_importaciones)\n",
    "  print(\"||=====================Top 3 medios de transporte que aportan más valor (Importaciones)===========================||\")\n",
    "  for i in range(3):\n",
    "    print(i+1,\"El medio de transporte \", transportes_importadores_suma[i][1], \"reporta un total de\", transportes_importadores_suma[i][0], \" en importaciones\")"
   ]
  },
  {
   "cell_type": "markdown",
   "metadata": {},
   "source": [
    "Reducir el medio de transporte menos utilizado, representa que la empresa mueve un total de 440,979,000,000 valor en exportaciones, lo cual es casi el 87% del total de exportaciones recordemos que este es de 508,464,000,000. \n",
    "\n",
    "Mientras que para las importaciones el transporte por aire unicamente representa el 10% del valor total de las importaciones. Pues el convinado de Mar, Riel y tierra es de 109,032,000,000. \n",
    "\n",
    "Esta es una buena opción, pues de esta forma, no se tendrían que abandonar rutas de exportación e importación. Y las rutas por aire podrían quedar solamente de emergencia. "
   ]
  },
  {
   "cell_type": "markdown",
   "metadata": {},
   "source": [
    "## Opción 3) \n",
    "Valor total de importaciones y exportaciones. Si Synergy Logistics\n",
    "quisiera enfocarse en los países que le generan el 80% del valor de las\n",
    "exportaciones e importaciones ¿en qué grupo de países debería enfocar sus\n",
    "esfuerzos?\n"
   ]
  },
  {
   "cell_type": "code",
   "execution_count": 57,
   "metadata": {},
   "outputs": [],
   "source": [
    "with open(\"synergy_logistics_database.csv\", \"r\") as archivo_csv:\n",
    "    lector = csv.reader(archivo_csv)\n",
    "    paises_exportadores_data = []\n",
    "    paises_importadores_data = []\n",
    "\n",
    "    i = 0\n",
    "    for linea in lector:\n",
    "        if linea[1] == 'Exports': \n",
    "            paises_exportadores_data.append([linea[2], linea[3]])\n",
    "          \n",
    "        elif linea[1] == 'Imports':    \n",
    "            paises_importadores_data.append([linea[2], linea[3]])\n",
    "    \n",
    "    paises_exportadores = []\n",
    "\n",
    "    for pais in paises_exportadores_data:\n",
    "        if pais not in paises_exportadores:\n",
    "            paises_exportadores.append(pais)   \n",
    "    \n",
    "    paises_importadores = []\n",
    "\n",
    "    for pais in paises_importadores_data:\n",
    "        if pais not in paises_importadores:\n",
    "            paises_importadores.append(pais)\n",
    "\n",
    "   \n",
    "\n"
   ]
  },
  {
   "cell_type": "code",
   "execution_count": 55,
   "metadata": {},
   "outputs": [
    {
     "name": "stdout",
     "output_type": "stream",
     "text": [
      "508464000000 Valor de exportaciones\n",
      "=================Paises exportadores que representan el 80%======================\n",
      "[16401000000, ['South Korea', 'Vietnam']]\n",
      "[14421000000, ['Netherlands', 'Belgium']]\n",
      "[14388000000, ['USA', 'Netherlands']]\n",
      "[10890000000, ['China', 'Mexico']]\n",
      "[10098000000, ['Japan', 'Brazil']]\n",
      "[9867000000, ['Germany', 'France']]\n",
      "[9207000000, ['South Korea', 'Japan']]\n",
      "[9009000000, ['Australia', 'Singapore']]\n",
      "[8613000000, ['Canada', 'Mexico']]\n",
      "[8250000000, ['China', 'Spain']]\n",
      "[8217000000, ['Mexico', 'New Zealand']]\n",
      "[7887000000, ['Netherlands', 'France']]\n",
      "[7788000000, ['Germany', 'USA']]\n",
      "[7557000000, ['United Kingdom', 'Belgium']]\n",
      "[7359000000, ['France', 'Belgium']]\n",
      "[7227000000, ['Russia', 'Belorussia']]\n",
      "[7062000000, ['India', 'United Arab Emirates']]\n",
      "[6963000000, ['USA', 'Belgium']]\n",
      "[6732000000, ['China', 'Rusia']]\n",
      "[6699000000, ['Japan', 'Canada']]\n",
      "[6600000000, ['Australia', 'Thailand']]\n",
      "[6468000000, ['Japan', 'China']]\n",
      "[6402000000, ['USA', 'Mexico']]\n",
      "[6237000000, ['China', 'South Korea']]\n",
      "[6039000000, ['India', 'China']]\n",
      "[5907000000, ['Japan', 'Mexico']]\n",
      "[5808000000, ['United Kingdom', 'Spain']]\n",
      "[5313000000, ['Germany', 'Mexico']]\n",
      "[4851000000, ['France', 'United Kingdom']]\n",
      "[4818000000, ['Belgium', 'United Kingdom']]\n",
      "[4752000000, ['Germany', 'South Korea']]\n",
      "[4719000000, ['China', 'Argentina']]\n",
      "[4686000000, ['USA', 'United Arab Emirates']]\n",
      "[4686000000, ['China', 'Germany']]\n",
      "[4587000000, ['USA', 'Argentina']]\n",
      "[4521000000, ['United Kingdom', 'Ireland']]\n",
      "[4488000000, ['USA', 'Canada']]\n",
      "[4389000000, ['China', 'Japan']]\n",
      "[4290000000, ['Russia', 'China']]\n",
      "[4290000000, ['Germany', 'Italy']]\n",
      "[4059000000, ['Japan', 'USA']]\n",
      "[4026000000, ['United Kingdom', 'USA']]\n",
      "[3960000000, ['Russia', 'Germany']]\n",
      "[3828000000, ['France', 'Spain']]\n",
      "[3762000000, ['Canada', 'USA']]\n",
      "[3762000000, ['Australia', 'Philippines']]\n",
      "[3729000000, ['Australia', 'United Kingdom']]\n",
      "[3696000000, ['Australia', 'Brazil']]\n",
      "[3663000000, ['China', 'USA']]\n",
      "[3630000000, ['Russia', 'Netherlands']]\n",
      "[3597000000, ['Italy', 'Germany']]\n",
      "[3597000000, ['France', 'Germany']]\n",
      "[3564000000, ['Brazil', 'Mexico']]\n",
      "[3531000000, ['United Kingdom', 'France']]\n",
      "[3498000000, ['Singapore', 'USA']]\n",
      "[3498000000, ['Mexico', 'USA']]\n",
      "[3498000000, ['Mexico', 'Singapore']]\n",
      "[3399000000, ['France', 'USA']]\n",
      "[3399000000, ['Canada', 'China']]\n",
      "[3333000000, ['USA', 'Brazil']]\n",
      "[3300000000, ['United Kingdom', 'Italy']]\n",
      "[3267000000, ['Spain', 'Russia']]\n",
      "[3267000000, ['Austria', 'Switzerland']]\n",
      "[3234000000, ['Austria', 'Italy']]\n",
      "[3168000000, ['South Korea', 'Mexico']]\n",
      "[3135000000, ['India', 'USA']]\n",
      "[3135000000, ['Germany', 'China']]\n",
      "[3135000000, ['China', 'Belgium']]\n",
      "[3102000000, ['South Korea', 'China']]\n",
      "[3102000000, ['Austria', 'Slovakia']]\n",
      "[3069000000, ['Germany', 'Canada']]\n",
      "[3003000000, ['South Korea', 'Brazil']]\n",
      "[2937000000, ['Singapore', 'Malaysia']]\n",
      "[2838000000, ['France', 'Canada']]\n"
     ]
    }
   ],
   "source": [
    "with open(\"synergy_logistics_database.csv\", \"r\") as archivo_csv:\n",
    "    lector = csv.reader(archivo_csv)\n",
    "    paises_exportadores_suma = []\n",
    "\n",
    "    precios = []\n",
    "    for linea in lector:\n",
    "        if linea[9] != 'total_value': \n",
    "            precios.append(linea[9])\n",
    "\n",
    "    total = 0\n",
    "    for pais in paises_exportadores:\n",
    "        suma = 0\n",
    "        i = 0\n",
    "        for linea in paises_exportadores_data:\n",
    "            if pais[0] == linea[0] and pais[1] == linea[1]:\n",
    "                suma += int(precios[i])\n",
    "        i+=1\n",
    "        \n",
    "        paises_exportadores_suma.append([suma, pais])\n",
    "        total += suma\n",
    "    paises_exportadores_suma.sort(reverse=True)    \n",
    "    \n",
    "    print(total, \"Valor de exportaciones total\" )\n",
    "\n",
    "    ochenta_porciento = 406771200000\n",
    "    total = 0\n",
    "    paises_exportadores_ochenta = []\n",
    "    for pais in paises_exportadores_suma:   \n",
    "        total +=pais[0]\n",
    "        if (total <= ochenta_porciento):\n",
    "            paises_exportadores_ochenta.append(pais)\n",
    "\n",
    "    print(\"=================Paises exportadores que representan el 80%======================\")\n",
    "    for pais in paises_exportadores_ochenta:\n",
    "        print(pais)\n",
    "\n"
   ]
  },
  {
   "cell_type": "code",
   "execution_count": 59,
   "metadata": {},
   "outputs": [
    {
     "name": "stdout",
     "output_type": "stream",
     "text": [
      "120384000000 Valor de importaciones\n",
      "=================Paises importadores que representan el 80%======================\n",
      "[9009000000, ['Singapore', 'Thailand']]\n",
      "[7689000000, ['Germany', 'China']]\n",
      "[6930000000, ['China', 'Japan']]\n",
      "[6798000000, ['Japan', 'Mexico']]\n",
      "[6600000000, ['China', 'Thailand']]\n",
      "[6435000000, ['Malaysia', 'Thailand']]\n",
      "[4686000000, ['Spain', 'Germany']]\n",
      "[4026000000, ['Mexico', 'USA']]\n",
      "[3762000000, ['China', 'United Arab Emirates']]\n",
      "[3729000000, ['Brazil', 'China']]\n",
      "[3597000000, ['USA', 'Thailand']]\n",
      "[3366000000, ['Australia', 'Japan']]\n",
      "[3300000000, ['Mexico', 'China']]\n",
      "[2838000000, ['France', 'Germany']]\n",
      "[2739000000, ['France', 'Poland']]\n",
      "[2673000000, ['USA', 'Canada']]\n",
      "[2508000000, ['Japan', 'United Arab Emirates']]\n",
      "[2310000000, ['Japan', 'Canada']]\n",
      "[2310000000, ['Germany', 'Mexico']]\n",
      "[2178000000, ['South Korea', 'Mexico']]\n",
      "[2145000000, ['Mexico', 'Japan']]\n",
      "[1914000000, ['United Kingdom', 'Canada']]\n",
      "[1914000000, ['USA', 'Germany']]\n",
      "[1914000000, ['Italy', 'Poland']]\n"
     ]
    }
   ],
   "source": [
    "with open(\"synergy_logistics_database.csv\", \"r\") as archivo_csv:\n",
    "    lector = csv.reader(archivo_csv)\n",
    "    paises_importadores_suma = []\n",
    "\n",
    "    precios = []\n",
    "    for linea in lector:\n",
    "        if linea[9] != 'total_value': \n",
    "            precios.append(linea[9])\n",
    "\n",
    "    total = 0\n",
    "    for pais in paises_importadores:\n",
    "        suma = 0\n",
    "        i = 0\n",
    "        for linea in paises_importadores_data:\n",
    "            if pais[0] == linea[0] and pais[1] == linea[1]:\n",
    "                suma += int(precios[i])\n",
    "        i+=1\n",
    "        \n",
    "        paises_importadores_suma.append([suma, pais])\n",
    "        total += suma\n",
    "    paises_importadores_suma.sort(reverse=True)    \n",
    "    \n",
    "    print(total, \"Valor de importaciones total\" )\n",
    "\n",
    "    ochenta_porciento = 96307200000\n",
    "    total = 0\n",
    "    paises_importadores_ochenta = []\n",
    "    for pais in paises_importadores_suma:   \n",
    "        total +=pais[0]\n",
    "        if (total <= ochenta_porciento):\n",
    "            paises_importadores_ochenta.append(pais)\n",
    "\n",
    "    print(\"=================Paises importadores que representan el 80%======================\")\n",
    "    for pais in paises_importadores_ochenta:\n",
    "        print(pais)"
   ]
  },
  {
   "cell_type": "markdown",
   "metadata": {},
   "source": [
    "Con está opción, pese a ser buena en terminos del valor de las exportaciones e importaciones. Se estarían dejando de lado completamente algunas rutas de exportación e importación, lo cual puede afectar negativamente a la contraparte de esta. \n",
    "Por poner un ejemplo, si se abandona la ruta de Fracia-Canada en importaciones por no ser parte de ese 80% más significativo, entoces, la ruta Canada-Francia en exportaciones, podría verse afectada de manera negativa. "
   ]
  },
  {
   "cell_type": "markdown",
   "metadata": {},
   "source": [
    "## 2. Conclución"
   ]
  },
  {
   "cell_type": "markdown",
   "metadata": {},
   "source": [
    "#### Luego de explorar las soluciones antes mencionadas, la mejor opción es la segunda, pues presenta una gran flexibilidad de implementación. Ya que en lugar de elimiar el transporte por aire, sería mejor enfocarse en el transporte por mar, tierra y aire, además deja mucho terreno para buscar alternativas viables para transporte aereo, como lo pueden ser alianzas con aerolineas."
   ]
  }
 ],
 "metadata": {
  "interpreter": {
   "hash": "f1d83f9e8f5c8837e86d6304fd35fdd4149e22cdc219dfc99f4444b7e631426b"
  },
  "kernelspec": {
   "display_name": "Python 3",
   "language": "python",
   "name": "python3"
  },
  "language_info": {
   "codemirror_mode": {
    "name": "ipython",
    "version": 3
   },
   "file_extension": ".py",
   "mimetype": "text/x-python",
   "name": "python",
   "nbconvert_exporter": "python",
   "pygments_lexer": "ipython3",
   "version": "3.8.10"
  }
 },
 "nbformat": 4,
 "nbformat_minor": 2
}
